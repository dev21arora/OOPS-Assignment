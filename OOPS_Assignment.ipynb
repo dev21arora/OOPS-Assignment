{
  "nbformat": 4,
  "nbformat_minor": 0,
  "metadata": {
    "colab": {
      "provenance": []
    },
    "kernelspec": {
      "name": "python3",
      "display_name": "Python 3"
    },
    "language_info": {
      "name": "python"
    }
  },
  "cells": [
    {
      "cell_type": "markdown",
      "source": [
        "#OOPS Assignment"
      ],
      "metadata": {
        "id": "FdEuLu6DJLTm"
      }
    },
    {
      "cell_type": "markdown",
      "source": [
        "#Theory Questions"
      ],
      "metadata": {
        "id": "tGuscxP2JSdc"
      }
    },
    {
      "cell_type": "markdown",
      "source": [
        "Q1-What is Object-Oriented Programming (OOP)?\n",
        "\n",
        "Object-Oriented Programming (OOP) is a programming paradigm that uses \"objects\" to model real-world entities. These objects encapsulate data and the methods that operate on that data. The four main principles of OOP are encapsulation, abstraction, inheritance, and polymorphism."
      ],
      "metadata": {
        "id": "4_GulStEMCNq"
      }
    },
    {
      "cell_type": "markdown",
      "source": [
        "Q2-What is a class in OOP?\n",
        "\n",
        "A class in OOP is a blueprint for creating objects. It defines attributes (data) and methods (functions) that the created objects (instances) will have. For example:"
      ],
      "metadata": {
        "id": "suMFB3M3MJvl"
      }
    },
    {
      "cell_type": "markdown",
      "source": [
        "Q3-What is an object in OOP?\n",
        "\n",
        "An object is an instance of a class. It represents a specific implementation with actual values for the attributes defined in the class."
      ],
      "metadata": {
        "id": "aEsuBka5MJsc"
      }
    },
    {
      "cell_type": "markdown",
      "source": [
        "Q4-What is the difference between abstraction and encapsulation?\n",
        "\n",
        "Abstraction hides complex implementation details and shows only the essential features.\n",
        "\n",
        "Encapsulation binds data and methods into a single unit and restricts access to some of the object’s components.\n"
      ],
      "metadata": {
        "id": "mVRth8UVMJqK"
      }
    },
    {
      "cell_type": "markdown",
      "source": [
        "Q5-What are dunder methods in Python?\n",
        "\n",
        "Dunder (double underscore) methods are special methods in Python like __init__, __str__, and __len__, used to define behaviors for objects like construction, printing, and length."
      ],
      "metadata": {
        "id": "MOYxv6KaMJns"
      }
    },
    {
      "cell_type": "markdown",
      "source": [
        "Q6-Explain the concept of inheritance in OOP.\n",
        "\n",
        "Inheritance allows a class to inherit attributes and methods from another class. This helps reuse code and establish relationships between classes."
      ],
      "metadata": {
        "id": "NjsI3eX5MJk_"
      }
    },
    {
      "cell_type": "markdown",
      "source": [
        "Q7- What is polymorphism in OOP?\n",
        "\n",
        "Polymorphism allows objects of different classes to be treated as instances of the same class through a common interface."
      ],
      "metadata": {
        "id": "00Oa8iAmMJim"
      }
    },
    {
      "cell_type": "markdown",
      "source": [
        "Q8-How is encapsulation achieved in Python?\n",
        "\n",
        "By using private variables (prefixing with _ or __) and providing getter and setter methods to control access."
      ],
      "metadata": {
        "id": "INDEMRq5MJf3"
      }
    },
    {
      "cell_type": "markdown",
      "source": [
        "Q9-What is a constructor in Python?\n",
        "\n",
        "The __init__ method in a class is a constructor that initializes object attributes when an object is created."
      ],
      "metadata": {
        "id": "W6167XAhMJdK"
      }
    },
    {
      "cell_type": "markdown",
      "source": [
        "Q10-What are class and static methods in Python?\n",
        "\n",
        "@classmethod: Takes cls as the first argument and can modify class state.\n",
        "\n",
        "@staticmethod: Does not take self or cls, behaves like a regular function within a class."
      ],
      "metadata": {
        "id": "aVj0NSYMMrTh"
      }
    },
    {
      "cell_type": "markdown",
      "source": [
        "Q11-What is method overloading in Python?\n",
        "\n",
        "Python does not support traditional method overloading. Instead, we use default arguments or *args/**kwargs."
      ],
      "metadata": {
        "id": "DWaQ1fCQMJX3"
      }
    },
    {
      "cell_type": "markdown",
      "source": [
        "Q12-What is method overriding in OOP?\n",
        "\n",
        "Method overriding occurs when a subclass provides a specific implementation of a method already defined in its parent class."
      ],
      "metadata": {
        "id": "SFnd8STtMJVn"
      }
    },
    {
      "cell_type": "markdown",
      "source": [
        "Q13-What is a property decorator in Python?\n",
        "\n",
        "@property is used to define a method as a property, allowing method access like an attribute."
      ],
      "metadata": {
        "id": "PdMKm3beMJTc"
      }
    },
    {
      "cell_type": "markdown",
      "source": [
        "Q14-Why is polymorphism important in OOP?\n",
        "Answer:\n",
        "\n",
        "Polymorphism increases flexibility and reusability of code, allowing different classes to be treated uniformly."
      ],
      "metadata": {
        "id": "m5yqILXTMJQr"
      }
    },
    {
      "cell_type": "markdown",
      "source": [
        "Q15-What is an abstract class in Python?\n",
        "\n",
        "An abstract class cannot be instantiated and may have abstract methods. It is defined using the abc module."
      ],
      "metadata": {
        "id": "3BC6Q0uMMJNp"
      }
    },
    {
      "cell_type": "markdown",
      "source": [
        "Q16-What are the advantages of OOP?\n",
        "\n",
        "Reusability through inheritance\n",
        "\n",
        "Modularity via encapsulation\n",
        "\n",
        "Flexibility with polymorphism\n",
        "\n",
        "Maintainability"
      ],
      "metadata": {
        "id": "ChoJO7C6MJLP"
      }
    },
    {
      "cell_type": "markdown",
      "source": [
        "Q17-What is the difference between a class variable and an instance variable?\n",
        "\n",
        "1. Class Variable\n",
        "\n",
        "Shared across all instances of the class.\n",
        "\n",
        "Defined inside the class but outside any methods.\n",
        "\n",
        "Changing a class variable affects all instances (unless it's shadowed by an instance variable).\n",
        "2. Instance Variable\n",
        "\n",
        "Unique to each instance of the class.\n",
        "\n",
        "Usually defined using self inside the __init__ method (or other methods).\n",
        "\n",
        "Changing an instance variable only affects that specific instance."
      ],
      "metadata": {
        "id": "aJgW5AQzMJIp"
      }
    },
    {
      "cell_type": "markdown",
      "source": [
        "Q18-What is multiple inheritance in Python?\n",
        "\n",
        "Multiple inheritance in Python means a class can inherit attributes and methods from more than one parent class."
      ],
      "metadata": {
        "id": "wNMwIU7CMJGP"
      }
    },
    {
      "cell_type": "markdown",
      "source": [
        "Q19-Explain the purpose of ″_ str _ ′ and ′_ repr _′ ′ methods in Python.\n",
        "\n",
        "The __str__ and __repr__ methods in Python are special methods used to define how an object is represented as a string.\n",
        "\n",
        "🔹 __str__: User-Friendly String\n",
        "\n",
        "Called by str(object) and the print() function.\n",
        "\n",
        "Should return a readable, user-friendly string.\n",
        "\n",
        "Purpose: Representation for end users."
      ],
      "metadata": {
        "id": "7rBZLm8rMJDv"
      }
    },
    {
      "cell_type": "markdown",
      "source": [
        "Q20-What is the significance of the ‘super()’ function in Python.\n",
        "\n",
        "The super() function in Python is used to call methods from a parent or sibling class. It's especially important in inheritance, including multiple inheritance, to ensure proper method resolution and to avoid redundancy.\n",
        "\n",
        "🔹 Key Uses of super():\n",
        "\n",
        "Access parent class methods without hardcoding the parent class name.\n",
        "\n",
        "Maintain the method resolution order (MRO) in complex inheritance structures.\n",
        "\n",
        "Avoid duplicate code and improve maintainability."
      ],
      "metadata": {
        "id": "309nxJCcMJBY"
      }
    },
    {
      "cell_type": "markdown",
      "source": [
        "Q21-What is the significance of the _ del _ method in Python?\n",
        "\n",
        "The __del__ method in Python is a destructor—it is called when an object is about to be destroyed, typically when there are no more references to it.\n",
        "\n",
        "🔹 Purpose of __del__:\n",
        "\n",
        "Used to perform cleanup actions like:\n",
        "\n",
        "Closing files\n",
        "\n",
        "Releasing network connections\n",
        "\n",
        "Deleting temporary resources\n",
        "\n",
        "It gives you a chance to define custom teardown behavior for your objects."
      ],
      "metadata": {
        "id": "BZO4OhTCMI_A"
      }
    },
    {
      "cell_type": "markdown",
      "source": [
        "Q22-What is the difference between @staticmethod and @classmethod in Python?\n",
        "\n",
        "The difference between @staticmethod and @classmethod in Python lies in what they receive as the first argument and how they interact with the class.\n",
        "\n",
        "🔹 @staticmethod\n",
        "\n",
        "Does not take self or cls as the first parameter.\n",
        "\n",
        "Behaves like a regular function, just lives inside the class for organization.\n",
        "\n",
        "Can't access or modify class or instance state."
      ],
      "metadata": {
        "id": "RDi43YcMMI8l"
      }
    },
    {
      "cell_type": "markdown",
      "source": [
        "Q23-How does polymorphism work in Python with inheritance?\n",
        "\n",
        "Objects of different classes can be treated as objects of a common base class, especially when they share the same method name, allowing the correct method to be called dynamically at runtime.\n",
        "\n",
        "🔹 How it works:\n",
        "\n",
        "Python uses dynamic (runtime) method resolution.\n",
        "\n",
        "Even if a variable is typed as the base class, Python checks the actual object type to decide which method to run."
      ],
      "metadata": {
        "id": "m6YTBnHTMI6E"
      }
    },
    {
      "cell_type": "markdown",
      "source": [
        "Q24-What is method chaining in Python OOP?\n",
        "\n",
        "Method chaining is a technique where multiple method calls are linked together in a single statement, by having each method return self.\n",
        "\n",
        "🔹 How it Works:\n",
        "\n",
        "Each method performs some action and then returns the same object (self) so that the next method can be called on it."
      ],
      "metadata": {
        "id": "2EoFBb0XMI2p"
      }
    },
    {
      "cell_type": "markdown",
      "source": [
        "Q25-What is the purpose of the __ call __ method in Python?\n",
        "\n",
        "🔹 __call__ method in Python\n",
        "\n",
        "The __call__ method lets an object behave like a function—meaning you can \"call\" an instance as if it were a function.\n",
        "\n",
        "Purpose:\n",
        "\n",
        "To allow instances of a class to be invoked like functions by defining custom behavior when the object is called using parentheses ()."
      ],
      "metadata": {
        "id": "blTx4yndMIrq"
      }
    },
    {
      "cell_type": "markdown",
      "source": [
        "#Practical Questions"
      ],
      "metadata": {
        "id": "f9NFEOe0MIUh"
      }
    },
    {
      "cell_type": "markdown",
      "source": [
        "Q1-Create a parent class Animal with a method speak() that prints a generic message. Create a child class Dog that overrides the speak() method to print \"Bark!\"."
      ],
      "metadata": {
        "id": "f0JU-cK6MIC-"
      }
    },
    {
      "cell_type": "code",
      "source": [
        "class Animal:\n",
        "    def speak(self):\n",
        "        print(\"Animal speaks...\")\n",
        "\n",
        "class Dog(Animal):\n",
        "    def speak(self):\n",
        "        print(\"Bark!\")\n",
        "\n",
        "d = Dog()\n",
        "d.speak()\n"
      ],
      "metadata": {
        "colab": {
          "base_uri": "https://localhost:8080/"
        },
        "id": "WP_3-_OYQGb7",
        "outputId": "8b33a76a-43ce-4db7-873d-aa6cad1b3c50"
      },
      "execution_count": 1,
      "outputs": [
        {
          "output_type": "stream",
          "name": "stdout",
          "text": [
            "Bark!\n"
          ]
        }
      ]
    },
    {
      "cell_type": "markdown",
      "source": [
        "Q2-Write a program to create an abstract class Shape with a method area(). Derive classes Circle and Rectangle from it and implement the area() method in both."
      ],
      "metadata": {
        "id": "O5p3_IX7MHxJ"
      }
    },
    {
      "cell_type": "code",
      "source": [
        "from abc import ABC, abstractmethod\n",
        "\n",
        "class Shape(ABC):\n",
        "    @abstractmethod\n",
        "    def area(self):\n",
        "        pass\n",
        "\n",
        "class Circle(Shape):\n",
        "    def __init__(self, radius):\n",
        "        self.radius = radius\n",
        "\n",
        "    def area(self):\n",
        "        return 3.14 * self.radius * self.radius\n",
        "\n",
        "class Rectangle(Shape):\n",
        "    def __init__(self, width, height):\n",
        "        self.width = width\n",
        "        self.height = height\n",
        "\n",
        "    def area(self):\n",
        "        return self.width * self.height\n",
        "\n",
        "c = Circle(6)\n",
        "r = Rectangle(4, 8)\n",
        "print(c.area())\n",
        "print(r.area())"
      ],
      "metadata": {
        "colab": {
          "base_uri": "https://localhost:8080/"
        },
        "id": "P4C9YCrNJQ7y",
        "outputId": "becbae3e-8d88-4044-a66d-4c533a9faba0"
      },
      "execution_count": 2,
      "outputs": [
        {
          "output_type": "stream",
          "name": "stdout",
          "text": [
            "113.03999999999999\n",
            "32\n"
          ]
        }
      ]
    },
    {
      "cell_type": "markdown",
      "source": [
        "Q3-Implement a multi-level inheritance scenario where a class Vehicle has an attribute type. Derive a class Car and further derive a class ElectricCar that adds a battery attribute.\n"
      ],
      "metadata": {
        "id": "qhiYy4rbQsMY"
      }
    },
    {
      "cell_type": "code",
      "source": [
        "class Vehicle:\n",
        "    def __init__(self, type):\n",
        "        self.type = type\n",
        "\n",
        "class Car(Vehicle):\n",
        "    def __init__(self, type, brand):\n",
        "        super().__init__(type)\n",
        "        self.brand = brand\n",
        "\n",
        "class ElectricCar(Car):\n",
        "    def __init__(self, type, brand, battery):\n",
        "        super().__init__(type, brand)\n",
        "        self.battery = battery\n",
        "\n",
        "e_car = ElectricCar(\"EV\", \"Tesla\", \"100 kWh\")\n",
        "print(e_car.type, e_car.brand, e_car.battery)\n",
        "\n"
      ],
      "metadata": {
        "colab": {
          "base_uri": "https://localhost:8080/"
        },
        "id": "om1kUpPtQnMP",
        "outputId": "a3d1ec53-c884-4420-8970-41b023f92ef9"
      },
      "execution_count": 3,
      "outputs": [
        {
          "output_type": "stream",
          "name": "stdout",
          "text": [
            "EV Tesla 100 kWh\n"
          ]
        }
      ]
    },
    {
      "cell_type": "markdown",
      "source": [
        "Q4-. Demonstrate polymorphism by creating a base class Bird with a method fly(). Create two derived classes Sparrow and Penguin that override the fly() method."
      ],
      "metadata": {
        "id": "fYKqjsZ-Q68k"
      }
    },
    {
      "cell_type": "code",
      "source": [
        "\n",
        "class Bird:\n",
        "    def fly(self):\n",
        "        print(\"Bird is flying\")\n",
        "\n",
        "class Sparrow(Bird):\n",
        "    def fly(self):\n",
        "        print(\"Sparrow flies high\")\n",
        "\n",
        "class Penguin(Bird):\n",
        "    def fly(self):\n",
        "        print(\"Penguins can't fly\")\n",
        "\n",
        "for bird in [Sparrow(), Penguin()]:\n",
        "    bird.fly()"
      ],
      "metadata": {
        "colab": {
          "base_uri": "https://localhost:8080/"
        },
        "id": "9ujRACS5Q4h7",
        "outputId": "c9d79409-b8fa-45f7-db91-d651ddf870c3"
      },
      "execution_count": 4,
      "outputs": [
        {
          "output_type": "stream",
          "name": "stdout",
          "text": [
            "Sparrow flies high\n",
            "Penguins can't fly\n"
          ]
        }
      ]
    },
    {
      "cell_type": "markdown",
      "source": [
        "Q5- Write a program to demonstrate encapsulation by creating a class BankAccount with private attributes balance and methods to deposit, withdraw, and check balance."
      ],
      "metadata": {
        "id": "xeXYdIFbRFS5"
      }
    },
    {
      "cell_type": "code",
      "source": [
        "class BankAccount:\n",
        "    def __init__(self):\n",
        "        self.__balance = 0\n",
        "\n",
        "    def deposit(self, amount):\n",
        "        self.__balance += amount\n",
        "\n",
        "    def withdraw(self, amount):\n",
        "        if amount <= self.__balance:\n",
        "            self.__balance -= amount\n",
        "        else:\n",
        "            print(\"Insufficient balance\")\n",
        "\n",
        "    def get_balance(self):\n",
        "        return self.__balance\n",
        "\n",
        "acc = BankAccount()\n",
        "acc.deposit(1000)\n",
        "acc.withdraw(500)\n",
        "print(acc.get_balance())"
      ],
      "metadata": {
        "colab": {
          "base_uri": "https://localhost:8080/"
        },
        "id": "rHtokQ2aREF3",
        "outputId": "14f64f2e-5cad-4f1c-c745-bae2ba23c35b"
      },
      "execution_count": 5,
      "outputs": [
        {
          "output_type": "stream",
          "name": "stdout",
          "text": [
            "500\n"
          ]
        }
      ]
    },
    {
      "cell_type": "markdown",
      "source": [
        "Q6-Demonstrate runtime polymorphism using a method play() in a base class Instrument. Derive classes Guitar and Piano that implement their own version of play()."
      ],
      "metadata": {
        "id": "zFGeHc4wRnJa"
      }
    },
    {
      "cell_type": "code",
      "source": [
        "class Instrument:\n",
        "    def play(self):\n",
        "        print(\"Instrument is playing\")\n",
        "\n",
        "class Guitar(Instrument):\n",
        "    def play(self):\n",
        "        print(\"Guitar is playing\")\n",
        "\n",
        "class Piano(Instrument):\n",
        "    def play(self):\n",
        "        print(\"Piano is playing\")\n",
        "\n",
        "for inst in [Guitar(), Piano()]:\n",
        "    inst.play()\n"
      ],
      "metadata": {
        "colab": {
          "base_uri": "https://localhost:8080/"
        },
        "id": "Q2Iz1yHBRg6x",
        "outputId": "48831293-93bb-4ae2-88b8-8c762bcb7be4"
      },
      "execution_count": 6,
      "outputs": [
        {
          "output_type": "stream",
          "name": "stdout",
          "text": [
            "Guitar is playing\n",
            "Piano is playing\n"
          ]
        }
      ]
    },
    {
      "cell_type": "markdown",
      "source": [
        "Q7- Create a class MathOperations with a class method add_numbers() to add two numbers and a static method subtract_numbers() to subtract two numbers."
      ],
      "metadata": {
        "id": "QNX03rysRxk3"
      }
    },
    {
      "cell_type": "code",
      "source": [
        "class MathOperations:\n",
        "    @classmethod\n",
        "    def add_numbers(cls, a, b):\n",
        "        return a + b\n",
        "\n",
        "    @staticmethod\n",
        "    def subtract_numbers(a, b):\n",
        "        return a - b\n",
        "\n",
        "print(MathOperations.add_numbers(10, 5))\n",
        "print(MathOperations.subtract_numbers(10, 5))"
      ],
      "metadata": {
        "colab": {
          "base_uri": "https://localhost:8080/"
        },
        "id": "69kmXcuxRwKV",
        "outputId": "ab8a968b-23a7-4a27-dba0-54b1cceae5c7"
      },
      "execution_count": 7,
      "outputs": [
        {
          "output_type": "stream",
          "name": "stdout",
          "text": [
            "15\n",
            "5\n"
          ]
        }
      ]
    },
    {
      "cell_type": "markdown",
      "source": [
        "Q8- Implement a class Person with a class method to count the total number of persons created."
      ],
      "metadata": {
        "id": "TarotH1RR7dR"
      }
    },
    {
      "cell_type": "code",
      "source": [
        "class Person:\n",
        "    count = 0\n",
        "\n",
        "    def __init__(self):\n",
        "        Person.count += 1\n",
        "\n",
        "    @classmethod\n",
        "    def total_persons(cls):\n",
        "        return cls.count\n",
        "\n",
        "p1 = Person()\n",
        "p2 = Person()\n",
        "print(Person.total_persons())\n"
      ],
      "metadata": {
        "colab": {
          "base_uri": "https://localhost:8080/"
        },
        "id": "hJFofxjkR5PJ",
        "outputId": "bae0dc06-bb97-4cff-ebea-59fbdffe0437"
      },
      "execution_count": 8,
      "outputs": [
        {
          "output_type": "stream",
          "name": "stdout",
          "text": [
            "2\n"
          ]
        }
      ]
    },
    {
      "cell_type": "markdown",
      "source": [
        "Q9- Write a class Fraction with attributes numerator and denominator. Override the str method to display the fraction as \"numerator/denominator\"."
      ],
      "metadata": {
        "id": "BJjJ-sXdSINu"
      }
    },
    {
      "cell_type": "code",
      "source": [
        "class Fraction:\n",
        "    def __init__(self, numerator, denominator):\n",
        "        self.numerator = numerator\n",
        "        self.denominator = denominator\n",
        "\n",
        "    def __str__(self):\n",
        "        return f\"{self.numerator}/{self.denominator}\"\n",
        "\n",
        "f = Fraction(3, 7)\n",
        "print(f)\n"
      ],
      "metadata": {
        "colab": {
          "base_uri": "https://localhost:8080/"
        },
        "id": "zSvhs25KSGX4",
        "outputId": "13f0cfa8-8e6c-43c8-93dc-f37a911ef0ba"
      },
      "execution_count": 10,
      "outputs": [
        {
          "output_type": "stream",
          "name": "stdout",
          "text": [
            "3/7\n"
          ]
        }
      ]
    },
    {
      "cell_type": "markdown",
      "source": [
        "Q10-Demonstrate operator overloading by creating a class Vector and overriding the add method to add two Vctors."
      ],
      "metadata": {
        "id": "7N6pwV4USRv3"
      }
    },
    {
      "cell_type": "code",
      "source": [
        "class Vector:\n",
        "    def __init__(self, x, y):\n",
        "        self.x = x\n",
        "        self.y = y\n",
        "\n",
        "    def __add__(self, other):\n",
        "        return Vector(self.x + other.x, self.y + other.y)\n",
        "\n",
        "    def __str__(self):\n",
        "        return f\"({self.x}, {self.y})\"\n",
        "\n",
        "v1 = Vector(2, 4)\n",
        "v2 = Vector(3, 6)\n",
        "print(v1 + v2)\n"
      ],
      "metadata": {
        "colab": {
          "base_uri": "https://localhost:8080/"
        },
        "id": "k8L_8dmoSOYX",
        "outputId": "ed41be03-bc18-4a10-c098-c220c70a2f5b"
      },
      "execution_count": 11,
      "outputs": [
        {
          "output_type": "stream",
          "name": "stdout",
          "text": [
            "(5, 10)\n"
          ]
        }
      ]
    },
    {
      "cell_type": "markdown",
      "source": [
        "Q11-Create a class Person with attributes name and age. Add a method greet() that prints \"Hello, my name is {name} and I am {age} years old.\""
      ],
      "metadata": {
        "id": "5emWmtaUSdlN"
      }
    },
    {
      "cell_type": "code",
      "source": [
        "class Person:\n",
        "    def __init__(self, name, age):\n",
        "        self.name = name\n",
        "        self.age = age\n",
        "\n",
        "    def greet(self):\n",
        "        print(f\"Hello, my name is {self.name} and I am {self.age} years old.\")\n",
        "\n",
        "p = Person(\"Dev\", 20)\n",
        "p.greet()"
      ],
      "metadata": {
        "colab": {
          "base_uri": "https://localhost:8080/"
        },
        "id": "x-lkyrukSbTX",
        "outputId": "1c92c81b-0840-4274-f07f-1ee85e2c30d4"
      },
      "execution_count": 12,
      "outputs": [
        {
          "output_type": "stream",
          "name": "stdout",
          "text": [
            "Hello, my name is Dev and I am 20 years old.\n"
          ]
        }
      ]
    },
    {
      "cell_type": "markdown",
      "source": [
        "Q12-Implement a class Student with attributes name and grades. Create a method average_grade() to compute the average of the grades."
      ],
      "metadata": {
        "id": "ol0ucwKfSs62"
      }
    },
    {
      "cell_type": "code",
      "source": [
        "class Student:\n",
        "    def __init__(self, name, grades):\n",
        "        self.name = name\n",
        "        self.grades = grades\n",
        "\n",
        "    def average_grade(self):\n",
        "        return sum(self.grades) / len(self.grades)\n",
        "\n",
        "s = Student(\"Bob\", [80, 90, 70])\n",
        "print(s.average_grade())\n"
      ],
      "metadata": {
        "colab": {
          "base_uri": "https://localhost:8080/"
        },
        "id": "Wd0v86naSrL1",
        "outputId": "f2701126-e315-4513-b11b-bb7206cd98ed"
      },
      "execution_count": 13,
      "outputs": [
        {
          "output_type": "stream",
          "name": "stdout",
          "text": [
            "80.0\n"
          ]
        }
      ]
    },
    {
      "cell_type": "markdown",
      "source": [
        "Q13-Create a class Rectangle with methods set_dimensions() to set the dimensions and area() to calculate the area."
      ],
      "metadata": {
        "id": "jH3ec5KqS1xF"
      }
    },
    {
      "cell_type": "code",
      "source": [
        "class Rectangle:\n",
        "    def set_dimensions(self, width, height):\n",
        "        self.width = width\n",
        "        self.height = height\n",
        "\n",
        "    def area(self):\n",
        "        return self.width * self.height\n",
        "\n",
        "r = Rectangle()\n",
        "r.set_dimensions(6, 3)\n",
        "print(r.area())"
      ],
      "metadata": {
        "colab": {
          "base_uri": "https://localhost:8080/"
        },
        "id": "Q6TQ_HMESy7S",
        "outputId": "ca47e31d-9f03-48bc-ab50-3b5b2508d7cf"
      },
      "execution_count": 15,
      "outputs": [
        {
          "output_type": "stream",
          "name": "stdout",
          "text": [
            "18\n"
          ]
        }
      ]
    },
    {
      "cell_type": "markdown",
      "source": [
        "Q14-Create a class Employee with a method calculate_salary() that computes the salary based on hours worked and hourly rate. Create a derived class Manager that adds a bonus to the salary."
      ],
      "metadata": {
        "id": "SXtXJDthTAMd"
      }
    },
    {
      "cell_type": "code",
      "source": [
        "class Employee:\n",
        "    def calculate_salary(self, hours, rate):\n",
        "        return hours * rate\n",
        "\n",
        "class Manager(Employee):\n",
        "    def calculate_salary(self, hours, rate, bonus):\n",
        "        base = super().calculate_salary(hours, rate)\n",
        "        return base + bonus\n",
        "\n",
        "m = Manager()\n",
        "print(m.calculate_salary(30, 60, 1500))"
      ],
      "metadata": {
        "colab": {
          "base_uri": "https://localhost:8080/"
        },
        "id": "l5tgduhES8--",
        "outputId": "d6c7074e-7c35-4b3d-859a-0e91d895314f"
      },
      "execution_count": 16,
      "outputs": [
        {
          "output_type": "stream",
          "name": "stdout",
          "text": [
            "3300\n"
          ]
        }
      ]
    },
    {
      "cell_type": "markdown",
      "source": [
        "Q15-Create a class Product with attributes name, price, and quantity. Implement a method total_price() that calculates the total price of the product"
      ],
      "metadata": {
        "id": "tgl1dvQxTLVJ"
      }
    },
    {
      "cell_type": "code",
      "source": [
        "class Product:\n",
        "    def __init__(self, name, price, quantity):\n",
        "        self.name = name\n",
        "        self.price = price\n",
        "        self.quantity = quantity\n",
        "\n",
        "    def total_price(self):\n",
        "        return self.price * self.quantity\n",
        "\n",
        "p = Product(\"Pen\", 10, 8)\n",
        "print(p.total_price())\n"
      ],
      "metadata": {
        "colab": {
          "base_uri": "https://localhost:8080/"
        },
        "id": "F21K3_54TJjK",
        "outputId": "09d83a59-d92d-42b1-de04-769a7a79c725"
      },
      "execution_count": 17,
      "outputs": [
        {
          "output_type": "stream",
          "name": "stdout",
          "text": [
            "80\n"
          ]
        }
      ]
    },
    {
      "cell_type": "markdown",
      "source": [
        "Q16-Create a class Animal with an abstract method sound(). Create two derived classes Cow and Sheep that implement the sound() method."
      ],
      "metadata": {
        "id": "eXod2gOQTaG8"
      }
    },
    {
      "cell_type": "code",
      "source": [
        "from abc import ABC, abstractmethod\n",
        "\n",
        "class Animal(ABC):\n",
        "    @abstractmethod\n",
        "    def sound(self):\n",
        "        pass\n",
        "\n",
        "class Cow(Animal):\n",
        "    def sound(self):\n",
        "        print(\"Moo\")\n",
        "\n",
        "class Sheep(Animal):\n",
        "    def sound(self):\n",
        "        print(\"Baa\")\n",
        "\n",
        "Cow().sound()\n",
        "Sheep().sound()"
      ],
      "metadata": {
        "colab": {
          "base_uri": "https://localhost:8080/"
        },
        "id": "3Z_5jGB2TXei",
        "outputId": "1397eb26-4dbe-44d7-f547-79aa8e2d4849"
      },
      "execution_count": 18,
      "outputs": [
        {
          "output_type": "stream",
          "name": "stdout",
          "text": [
            "Moo\n",
            "Baa\n"
          ]
        }
      ]
    },
    {
      "cell_type": "markdown",
      "source": [
        "Q17-Create a class Book with attributes title, author, and year_published. Add a method get_book_info() that returns a formatted string with the book's details."
      ],
      "metadata": {
        "id": "aGE96rAhTlkq"
      }
    },
    {
      "cell_type": "code",
      "source": [
        "class Book:\n",
        "    def __init__(self, title, author, year_published):\n",
        "        self.title = title\n",
        "        self.author = author\n",
        "        self.year_published = year_published\n",
        "\n",
        "    def get_book_info(self):\n",
        "        return f\"{self.title} by {self.author}, published in {self.year_published}\"\n",
        "\n",
        "b = Book(\"1984\", \"George Orwell\", 1949)\n",
        "print(b.get_book_info())"
      ],
      "metadata": {
        "colab": {
          "base_uri": "https://localhost:8080/"
        },
        "id": "7h7bpiIVTkOd",
        "outputId": "dae07041-edc1-4983-a4ef-7cd7321df899"
      },
      "execution_count": 19,
      "outputs": [
        {
          "output_type": "stream",
          "name": "stdout",
          "text": [
            "1984 by George Orwell, published in 1949\n"
          ]
        }
      ]
    },
    {
      "cell_type": "markdown",
      "source": [
        "Q18-Create a class House with attributes address and price. Create a derived class Mansion that adds an attribute number_of_rooms."
      ],
      "metadata": {
        "id": "6gneoO7pTwlt"
      }
    },
    {
      "cell_type": "code",
      "source": [
        "class House:\n",
        "    def __init__(self, address, price):\n",
        "        self.address = address\n",
        "        self.price = price\n",
        "\n",
        "class Mansion(House):\n",
        "    def __init__(self, address, price, number_of_rooms):\n",
        "        super().__init__(address, price)\n",
        "        self.number_of_rooms = number_of_rooms\n",
        "\n",
        "m = Mansion(\"Scheme 140,Vijay Nagar\", 5000000, 3)\n",
        "print(m.address, m.price, m.number_of_rooms)"
      ],
      "metadata": {
        "colab": {
          "base_uri": "https://localhost:8080/"
        },
        "id": "KnBjdD9LTttH",
        "outputId": "d1edabfa-7be1-4343-aff4-34faade596da"
      },
      "execution_count": 20,
      "outputs": [
        {
          "output_type": "stream",
          "name": "stdout",
          "text": [
            "Scheme 140,Vijay Nagar 5000000 3\n"
          ]
        }
      ]
    },
    {
      "cell_type": "code",
      "source": [],
      "metadata": {
        "id": "murfLXHBUIgV"
      },
      "execution_count": null,
      "outputs": []
    }
  ]
}